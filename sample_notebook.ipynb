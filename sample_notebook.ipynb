{
 "cells": [
  {
   "cell_type": "code",
   "execution_count": 1,
   "metadata": {},
   "outputs": [
    {
     "ename": "ModuleNotFoundError",
     "evalue": "No module named 'featuretools'",
     "output_type": "error",
     "traceback": [
      "\u001b[0;31m---------------------------------------------------------------------------\u001b[0m",
      "\u001b[0;31mModuleNotFoundError\u001b[0m                       Traceback (most recent call last)",
      "\u001b[0;32m<ipython-input-1-65a9181378df>\u001b[0m in \u001b[0;36m<module>\u001b[0;34m()\u001b[0m\n\u001b[1;32m      3\u001b[0m \u001b[0;32mimport\u001b[0m \u001b[0mnumpy\u001b[0m \u001b[0;32mas\u001b[0m \u001b[0mnp\u001b[0m\u001b[0;34m\u001b[0m\u001b[0;34m\u001b[0m\u001b[0m\n\u001b[1;32m      4\u001b[0m \u001b[0;32mfrom\u001b[0m \u001b[0mscipy\u001b[0m \u001b[0;32mimport\u001b[0m \u001b[0mstats\u001b[0m\u001b[0;34m\u001b[0m\u001b[0;34m\u001b[0m\u001b[0m\n\u001b[0;32m----> 5\u001b[0;31m \u001b[0;32mimport\u001b[0m \u001b[0mfeaturetools\u001b[0m \u001b[0;32mas\u001b[0m \u001b[0mft\u001b[0m\u001b[0;34m\u001b[0m\u001b[0;34m\u001b[0m\u001b[0m\n\u001b[0m\u001b[1;32m      6\u001b[0m \u001b[0;34m\u001b[0m\u001b[0m\n\u001b[1;32m      7\u001b[0m \u001b[0;31m# Visualization\u001b[0m\u001b[0;34m\u001b[0m\u001b[0;34m\u001b[0m\u001b[0;34m\u001b[0m\u001b[0m\n",
      "\u001b[0;31mModuleNotFoundError\u001b[0m: No module named 'featuretools'"
     ]
    }
   ],
   "source": [
    "# Standard data science libraries\n",
    "import pandas as pd\n",
    "import numpy as np\n",
    "from scipy import stats\n",
    "import featuretools as ft\n",
    "\n",
    "# Visualization\n",
    "import matplotlib.pyplot as plt\n",
    "import seaborn as sns\n",
    "plt.style.use('bmh')\n",
    "\n",
    "# Options for pandas\n",
    "pd.options.display.max_columns = 20\n",
    "\n",
    "# Display all cell outputs\n",
    "from IPython.core.interactiveshell import InteractiveShell\n",
    "InteractiveShell.ast_node_interactivity = 'all'\n"
   ]
  },
  {
   "cell_type": "code",
   "execution_count": 2,
   "metadata": {},
   "outputs": [
    {
     "name": "stdout",
     "output_type": "stream",
     "text": [
      "Collecting featuretools\n",
      "\u001b[33m  WARNING: Retrying (Retry(total=4, connect=None, read=None, redirect=None, status=None)) after connection broken by 'NewConnectionError('<pip._vendor.urllib3.connection.VerifiedHTTPSConnection object at 0x7f40cc53f588>: Failed to establish a new connection: [Errno -3] Temporary failure in name resolution')': /simple/featuretools/\u001b[0m\n",
      "\u001b[?25l  Downloading https://files.pythonhosted.org/packages/c6/ec/bf03adcbb91cd42be3f4e7549fde4dac306930ac5a92ca33c18de7c350f8/featuretools-0.18.0-py3-none-any.whl (271kB)\n",
      "\u001b[K     |████████████████████████████████| 276kB 890kB/s eta 0:00:01\n",
      "\u001b[?25hCollecting psutil>=5.4.8 (from featuretools)\n",
      "\u001b[?25l  Downloading https://files.pythonhosted.org/packages/aa/3e/d18f2c04cf2b528e18515999b0c8e698c136db78f62df34eee89cee205f1/psutil-5.7.2.tar.gz (460kB)\n",
      "\u001b[K     |████████████████████████████████| 460kB 11.3MB/s eta 0:00:01\n",
      "\u001b[?25hRequirement already satisfied: numpy>=1.13.3 in /home/apuayush/anaconda3/lib/python3.7/site-packages (from featuretools) (1.17.3)\n",
      "Collecting dask[dataframe]>=2.12.0 (from featuretools)\n",
      "\u001b[?25l  Downloading https://files.pythonhosted.org/packages/c2/00/25f8be008dc11f868ff1c4d4a46577b03e616ae375c6e67388bdbbd03403/dask-2.22.0-py3-none-any.whl (828kB)\n",
      "\u001b[K     |████████████████████████████████| 829kB 8.3MB/s eta 0:00:01\n",
      "\u001b[?25hRequirement already satisfied: cloudpickle>=0.4.0 in /home/apuayush/anaconda3/lib/python3.7/site-packages (from featuretools) (0.5.5)\n",
      "Requirement already satisfied: pandas<2.0.0,>=0.24.1 in /home/apuayush/anaconda3/lib/python3.7/site-packages (from featuretools) (1.0.5)\n",
      "Requirement already satisfied: tqdm>=4.32.0 in /home/apuayush/anaconda3/lib/python3.7/site-packages (from featuretools) (4.46.1)\n",
      "Collecting distributed>=2.12.0 (from featuretools)\n",
      "\u001b[?25l  Downloading https://files.pythonhosted.org/packages/db/79/c96c6aed4a8857b56073a08e6501f9968f2f40d880341f03a76cdb9af2e4/distributed-2.22.0-py3-none-any.whl (647kB)\n",
      "\u001b[K     |████████████████████████████████| 655kB 12.0MB/s eta 0:00:01\n",
      "\u001b[?25hRequirement already satisfied: pyyaml>=3.12 in /home/apuayush/anaconda3/lib/python3.7/site-packages (from featuretools) (3.13)\n",
      "Requirement already satisfied: click>=7.0.0 in /home/apuayush/anaconda3/lib/python3.7/site-packages (from featuretools) (7.1.2)\n",
      "Requirement already satisfied: scipy>=0.13.3 in /home/apuayush/anaconda3/lib/python3.7/site-packages (from featuretools) (1.1.0)\n",
      "Collecting fsspec>=0.6.0; extra == \"dataframe\" (from dask[dataframe]>=2.12.0->featuretools)\n",
      "\u001b[?25l  Downloading https://files.pythonhosted.org/packages/d3/66/974e01194980d9780cc09724315111f9cccba26b4351552fdb4d97eb842e/fsspec-0.8.0-py3-none-any.whl (85kB)\n",
      "\u001b[K     |████████████████████████████████| 92kB 6.5MB/s eta 0:00:011\n",
      "\u001b[?25hRequirement already satisfied: toolz>=0.8.2; extra == \"dataframe\" in /home/apuayush/anaconda3/lib/python3.7/site-packages (from dask[dataframe]>=2.12.0->featuretools) (0.9.0)\n",
      "Collecting partd>=0.3.10; extra == \"dataframe\" (from dask[dataframe]>=2.12.0->featuretools)\n",
      "  Downloading https://files.pythonhosted.org/packages/44/e1/68dbe731c9c067655bff1eca5b7d40c20ca4b23fd5ec9f3d17e201a6f36b/partd-1.1.0-py3-none-any.whl\n",
      "Requirement already satisfied: python-dateutil>=2.6.1 in /home/apuayush/anaconda3/lib/python3.7/site-packages (from pandas<2.0.0,>=0.24.1->featuretools) (2.8.1)\n",
      "Requirement already satisfied: pytz>=2017.2 in /home/apuayush/anaconda3/lib/python3.7/site-packages (from pandas<2.0.0,>=0.24.1->featuretools) (2020.1)\n",
      "Requirement already satisfied: tornado>=5; python_version < \"3.8\" in /home/apuayush/anaconda3/lib/python3.7/site-packages (from distributed>=2.12.0->featuretools) (5.1.1)\n",
      "Collecting tblib>=1.6.0 (from distributed>=2.12.0->featuretools)\n",
      "  Downloading https://files.pythonhosted.org/packages/f8/cd/2fad4add11c8837e72f50a30e2bda30e67a10d70462f826b291443a55c7d/tblib-1.7.0-py2.py3-none-any.whl\n",
      "Requirement already satisfied: zict>=0.1.3 in /home/apuayush/anaconda3/lib/python3.7/site-packages (from distributed>=2.12.0->featuretools) (0.1.3)\n",
      "Collecting msgpack>=0.6.0 (from distributed>=2.12.0->featuretools)\n",
      "\u001b[?25l  Downloading https://files.pythonhosted.org/packages/d2/9f/5a6805e7e745531da7acc882f9ba4550ffd7d6f05a668a22b385f52741ee/msgpack-1.0.0-cp37-cp37m-manylinux1_x86_64.whl (275kB)\n",
      "\u001b[K     |████████████████████████████████| 276kB 11.9MB/s eta 0:00:01    |███████▏                        | 61kB 9.9MB/s eta 0:00:01\n",
      "\u001b[?25hRequirement already satisfied: sortedcontainers!=2.0.0,!=2.0.1 in /home/apuayush/anaconda3/lib/python3.7/site-packages (from distributed>=2.12.0->featuretools) (2.2.2)\n",
      "Requirement already satisfied: setuptools in /home/apuayush/anaconda3/lib/python3.7/site-packages (from distributed>=2.12.0->featuretools) (41.2.0)\n",
      "Requirement already satisfied: locket in /home/apuayush/anaconda3/lib/python3.7/site-packages (from partd>=0.3.10; extra == \"dataframe\"->dask[dataframe]>=2.12.0->featuretools) (0.2.0)\n",
      "Requirement already satisfied: six>=1.5 in /home/apuayush/anaconda3/lib/python3.7/site-packages (from python-dateutil>=2.6.1->pandas<2.0.0,>=0.24.1->featuretools) (1.15.0)\n",
      "Requirement already satisfied: heapdict in /home/apuayush/anaconda3/lib/python3.7/site-packages (from zict>=0.1.3->distributed>=2.12.0->featuretools) (1.0.0)\n",
      "Building wheels for collected packages: psutil\n",
      "  Building wheel for psutil (setup.py) ... \u001b[?25ldone\n",
      "\u001b[?25h  Created wheel for psutil: filename=psutil-5.7.2-cp37-cp37m-linux_x86_64.whl size=268422 sha256=ad73fdf2a0919b50efd3278b43a7a6480cc79626858f36a49e207b6975072a31\n",
      "  Stored in directory: /home/apuayush/.cache/pip/wheels/39/a0/f5/c4fa280463e29aea07797acb5312358fefb067c1f4f98e11b1\n",
      "Successfully built psutil\n",
      "\u001b[31mERROR: spyder 3.3.6 requires pyqt5<5.13; python_version >= \"3\", which is not installed.\u001b[0m\n",
      "\u001b[31mERROR: spyder 3.3.6 requires pyqtwebengine<5.13; python_version >= \"3\", which is not installed.\u001b[0m\n",
      "\u001b[31mERROR: distributed 2.22.0 has requirement cloudpickle>=1.5.0, but you'll have cloudpickle 0.5.5 which is incompatible.\u001b[0m\n",
      "Installing collected packages: psutil, fsspec, partd, dask, tblib, msgpack, distributed, featuretools\n",
      "  Found existing installation: psutil 5.4.7\n",
      "    Uninstalling psutil-5.4.7:\n",
      "      Successfully uninstalled psutil-5.4.7\n",
      "  Found existing installation: partd 0.3.8\n",
      "    Uninstalling partd-0.3.8:\n",
      "      Successfully uninstalled partd-0.3.8\n",
      "  Found existing installation: dask 0.19.1\n",
      "    Uninstalling dask-0.19.1:\n",
      "      Successfully uninstalled dask-0.19.1\n",
      "  Found existing installation: tblib 1.3.2\n",
      "    Uninstalling tblib-1.3.2:\n",
      "      Successfully uninstalled tblib-1.3.2\n",
      "  Found existing installation: msgpack 0.5.6\n",
      "    Uninstalling msgpack-0.5.6:\n",
      "      Successfully uninstalled msgpack-0.5.6\n",
      "  Found existing installation: distributed 1.23.1\n",
      "    Uninstalling distributed-1.23.1:\n",
      "      Successfully uninstalled distributed-1.23.1\n",
      "Successfully installed dask-2.22.0 distributed-2.22.0 featuretools-0.18.0 fsspec-0.8.0 msgpack-1.0.0 partd-1.1.0 psutil-5.7.2 tblib-1.7.0\n"
     ]
    }
   ],
   "source": [
    "!pip install featuretools\n"
   ]
  },
  {
   "cell_type": "code",
   "execution_count": null,
   "metadata": {},
   "outputs": [],
   "source": []
  }
 ],
 "metadata": {
  "kernelspec": {
   "display_name": "Python 3",
   "language": "python",
   "name": "python3"
  },
  "language_info": {
   "codemirror_mode": {
    "name": "ipython",
    "version": 3
   },
   "file_extension": ".py",
   "mimetype": "text/x-python",
   "name": "python",
   "nbconvert_exporter": "python",
   "pygments_lexer": "ipython3",
   "version": "3.7.3"
  }
 },
 "nbformat": 4,
 "nbformat_minor": 2
}
